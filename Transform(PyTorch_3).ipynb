{
  "nbformat": 4,
  "nbformat_minor": 0,
  "metadata": {
    "colab": {
      "provenance": [],
      "gpuType": "T4",
      "authorship_tag": "ABX9TyPEgHQsvG1pf7xgjgUpbKQJ",
      "include_colab_link": true
    },
    "kernelspec": {
      "name": "python3",
      "display_name": "Python 3"
    },
    "language_info": {
      "name": "python"
    },
    "accelerator": "GPU"
  },
  "cells": [
    {
      "cell_type": "markdown",
      "metadata": {
        "id": "view-in-github",
        "colab_type": "text"
      },
      "source": [
        "<a href=\"https://colab.research.google.com/github/Neel7317/PyTorch/blob/main/Transform(PyTorch_3).ipynb\" target=\"_parent\"><img src=\"https://colab.research.google.com/assets/colab-badge.svg\" alt=\"Open In Colab\"/></a>"
      ]
    },
    {
      "cell_type": "markdown",
      "source": [
        "transform to modify the features and target_transform to modify the labels -"
      ],
      "metadata": {
        "id": "ACW4-6DWJJZO"
      }
    },
    {
      "cell_type": "code",
      "execution_count": 1,
      "metadata": {
        "colab": {
          "base_uri": "https://localhost:8080/"
        },
        "id": "svfscySfJEiS",
        "outputId": "529eb4a0-eea6-4548-95dc-8881d6a7bc27"
      },
      "outputs": [
        {
          "output_type": "stream",
          "name": "stdout",
          "text": [
            "Downloading http://fashion-mnist.s3-website.eu-central-1.amazonaws.com/train-images-idx3-ubyte.gz\n",
            "Downloading http://fashion-mnist.s3-website.eu-central-1.amazonaws.com/train-images-idx3-ubyte.gz to data/FashionMNIST/raw/train-images-idx3-ubyte.gz\n"
          ]
        },
        {
          "output_type": "stream",
          "name": "stderr",
          "text": [
            "100%|██████████| 26421880/26421880 [00:01<00:00, 16893433.53it/s]\n"
          ]
        },
        {
          "output_type": "stream",
          "name": "stdout",
          "text": [
            "Extracting data/FashionMNIST/raw/train-images-idx3-ubyte.gz to data/FashionMNIST/raw\n",
            "\n",
            "Downloading http://fashion-mnist.s3-website.eu-central-1.amazonaws.com/train-labels-idx1-ubyte.gz\n",
            "Downloading http://fashion-mnist.s3-website.eu-central-1.amazonaws.com/train-labels-idx1-ubyte.gz to data/FashionMNIST/raw/train-labels-idx1-ubyte.gz\n"
          ]
        },
        {
          "output_type": "stream",
          "name": "stderr",
          "text": [
            "100%|██████████| 29515/29515 [00:00<00:00, 276460.54it/s]\n"
          ]
        },
        {
          "output_type": "stream",
          "name": "stdout",
          "text": [
            "Extracting data/FashionMNIST/raw/train-labels-idx1-ubyte.gz to data/FashionMNIST/raw\n",
            "\n",
            "Downloading http://fashion-mnist.s3-website.eu-central-1.amazonaws.com/t10k-images-idx3-ubyte.gz\n",
            "Downloading http://fashion-mnist.s3-website.eu-central-1.amazonaws.com/t10k-images-idx3-ubyte.gz to data/FashionMNIST/raw/t10k-images-idx3-ubyte.gz\n"
          ]
        },
        {
          "output_type": "stream",
          "name": "stderr",
          "text": [
            "100%|██████████| 4422102/4422102 [00:00<00:00, 4985769.29it/s]\n"
          ]
        },
        {
          "output_type": "stream",
          "name": "stdout",
          "text": [
            "Extracting data/FashionMNIST/raw/t10k-images-idx3-ubyte.gz to data/FashionMNIST/raw\n",
            "\n",
            "Downloading http://fashion-mnist.s3-website.eu-central-1.amazonaws.com/t10k-labels-idx1-ubyte.gz\n",
            "Downloading http://fashion-mnist.s3-website.eu-central-1.amazonaws.com/t10k-labels-idx1-ubyte.gz to data/FashionMNIST/raw/t10k-labels-idx1-ubyte.gz\n"
          ]
        },
        {
          "output_type": "stream",
          "name": "stderr",
          "text": [
            "100%|██████████| 5148/5148 [00:00<00:00, 17163972.17it/s]"
          ]
        },
        {
          "output_type": "stream",
          "name": "stdout",
          "text": [
            "Extracting data/FashionMNIST/raw/t10k-labels-idx1-ubyte.gz to data/FashionMNIST/raw\n",
            "\n"
          ]
        },
        {
          "output_type": "stream",
          "name": "stderr",
          "text": [
            "\n"
          ]
        }
      ],
      "source": [
        "import torch\n",
        "from torchvision import datasets\n",
        "from torchvision.transforms import ToTensor, Lambda\n",
        "\n",
        "ds = datasets.FashionMNIST(\n",
        "    root=\"data\",\n",
        "    train=True,\n",
        "    download=True,\n",
        "    transform=ToTensor(),\n",
        "    target_transform=Lambda(lambda y: torch.zeros(10, dtype=torch.float).scatter_(0, torch.tensor(y), value=1))\n",
        ")"
      ]
    },
    {
      "cell_type": "code",
      "source": [
        "import os\n",
        "import torch\n",
        "from torch import nn\n",
        "from torch.utils.data import DataLoader\n",
        "from torchvision import datasets, transforms"
      ],
      "metadata": {
        "id": "2m3eKlynJv5s"
      },
      "execution_count": 1,
      "outputs": []
    },
    {
      "cell_type": "code",
      "source": [
        "device = (\n",
        "    \"cuda\"\n",
        "    if torch.cuda.is_available()\n",
        "    else \"mps\"\n",
        "    if torch.backends.mps.is_available()\n",
        "    else \"cpu\"\n",
        ")\n",
        "print(f\"Using {device} device\")"
      ],
      "metadata": {
        "colab": {
          "base_uri": "https://localhost:8080/"
        },
        "id": "PKO0jOOtKrqI",
        "outputId": "3859bfbc-986e-495a-d279-6d2634a03232"
      },
      "execution_count": 2,
      "outputs": [
        {
          "output_type": "stream",
          "name": "stdout",
          "text": [
            "Using cuda device\n"
          ]
        }
      ]
    },
    {
      "cell_type": "code",
      "source": [
        "class NeuralNetwork(nn.Module):\n",
        "    def __init__(self):\n",
        "        super().__init__()\n",
        "        self.flatten = nn.Flatten()\n",
        "        self.linear_relu_stack = nn.Sequential(\n",
        "            nn.Linear(28*28, 512),\n",
        "            nn.ReLU(),\n",
        "            nn.Linear(512, 512),\n",
        "            nn.ReLU(),\n",
        "            nn.Linear(512, 10),\n",
        "        )\n",
        "\n",
        "    def forward(self, x):\n",
        "        x = self.flatten(x)\n",
        "        logits = self.linear_relu_stack(x)\n",
        "        return logits"
      ],
      "metadata": {
        "id": "Th9ymQzvKkrj"
      },
      "execution_count": 3,
      "outputs": []
    },
    {
      "cell_type": "code",
      "source": [
        "model = NeuralNetwork().to(device)\n",
        "print(model)"
      ],
      "metadata": {
        "colab": {
          "base_uri": "https://localhost:8080/"
        },
        "id": "DMywKLUOMqib",
        "outputId": "78a312c0-4f57-41b0-99c0-bc28c3727e18"
      },
      "execution_count": 4,
      "outputs": [
        {
          "output_type": "stream",
          "name": "stdout",
          "text": [
            "NeuralNetwork(\n",
            "  (flatten): Flatten(start_dim=1, end_dim=-1)\n",
            "  (linear_relu_stack): Sequential(\n",
            "    (0): Linear(in_features=784, out_features=512, bias=True)\n",
            "    (1): ReLU()\n",
            "    (2): Linear(in_features=512, out_features=512, bias=True)\n",
            "    (3): ReLU()\n",
            "    (4): Linear(in_features=512, out_features=10, bias=True)\n",
            "  )\n",
            ")\n"
          ]
        }
      ]
    },
    {
      "cell_type": "code",
      "source": [
        "X = torch.rand(1, 28, 28, device=device)\n",
        "logits = model(X)\n",
        "pred_probab = nn.Softmax(dim=1)(logits)\n",
        "y_pred = pred_probab.argmax(1)\n",
        "print(f\"Predicted class: {y_pred}\")"
      ],
      "metadata": {
        "colab": {
          "base_uri": "https://localhost:8080/"
        },
        "id": "imhybyElMrBU",
        "outputId": "abdf80cb-392c-4b67-d8ee-feb2d17aff37"
      },
      "execution_count": 5,
      "outputs": [
        {
          "output_type": "stream",
          "name": "stdout",
          "text": [
            "Predicted class: tensor([7], device='cuda:0')\n"
          ]
        }
      ]
    },
    {
      "cell_type": "code",
      "source": [
        "input_image = torch.rand(3,28,28)\n",
        "print(input_image)\n",
        "print(input_image.size())"
      ],
      "metadata": {
        "colab": {
          "base_uri": "https://localhost:8080/"
        },
        "id": "bIeRwqGLNTSz",
        "outputId": "746afb39-96a5-45d7-d7ab-671b3c802356"
      },
      "execution_count": 8,
      "outputs": [
        {
          "output_type": "stream",
          "name": "stdout",
          "text": [
            "tensor([[[0.7755, 0.0329, 0.5335,  ..., 0.0769, 0.9422, 0.8666],\n",
            "         [0.9808, 0.8221, 0.3223,  ..., 0.2991, 0.9761, 0.7161],\n",
            "         [0.4995, 0.4432, 0.8477,  ..., 0.8462, 0.2418, 0.7333],\n",
            "         ...,\n",
            "         [0.9485, 0.2312, 0.9520,  ..., 0.4849, 0.5254, 0.4951],\n",
            "         [0.0803, 0.5611, 0.0733,  ..., 0.4580, 0.8650, 0.3394],\n",
            "         [0.4436, 0.9739, 0.9464,  ..., 0.5682, 0.1848, 0.9067]],\n",
            "\n",
            "        [[0.7492, 0.5759, 0.1479,  ..., 0.5884, 0.7269, 0.9061],\n",
            "         [0.4289, 0.1016, 0.3639,  ..., 0.1530, 0.8246, 0.8911],\n",
            "         [0.4163, 0.8945, 0.6895,  ..., 0.8692, 0.5482, 0.2786],\n",
            "         ...,\n",
            "         [0.5010, 0.3113, 0.4639,  ..., 0.0601, 0.1985, 0.8467],\n",
            "         [0.7869, 0.9931, 0.9065,  ..., 0.7074, 0.8866, 0.4269],\n",
            "         [0.7097, 0.5391, 0.2803,  ..., 0.4883, 0.6359, 0.4479]],\n",
            "\n",
            "        [[0.4202, 0.7190, 0.6890,  ..., 0.3657, 0.0871, 0.0135],\n",
            "         [0.5289, 0.8727, 0.1960,  ..., 0.5065, 0.7800, 0.6607],\n",
            "         [0.7308, 0.7237, 0.6003,  ..., 0.6816, 0.8212, 0.4933],\n",
            "         ...,\n",
            "         [0.5263, 0.0942, 0.4653,  ..., 0.6143, 0.6121, 0.7486],\n",
            "         [0.9986, 0.3310, 0.7380,  ..., 0.6719, 0.4145, 0.9807],\n",
            "         [0.5561, 0.1029, 0.4294,  ..., 0.9508, 0.6777, 0.7206]]])\n",
            "torch.Size([3, 28, 28])\n"
          ]
        }
      ]
    },
    {
      "cell_type": "code",
      "source": [
        "flatten = nn.Flatten()\n",
        "flat_image = flatten(input_image)\n",
        "print(flat_image)\n",
        "print(flat_image.size())"
      ],
      "metadata": {
        "colab": {
          "base_uri": "https://localhost:8080/"
        },
        "id": "7A0yBKWQNkYa",
        "outputId": "02bc8c74-66b9-47c6-aa48-c35b27950b3e"
      },
      "execution_count": 10,
      "outputs": [
        {
          "output_type": "stream",
          "name": "stdout",
          "text": [
            "tensor([[0.7755, 0.0329, 0.5335,  ..., 0.5682, 0.1848, 0.9067],\n",
            "        [0.7492, 0.5759, 0.1479,  ..., 0.4883, 0.6359, 0.4479],\n",
            "        [0.4202, 0.7190, 0.6890,  ..., 0.9508, 0.6777, 0.7206]])\n",
            "torch.Size([3, 784])\n"
          ]
        }
      ]
    },
    {
      "cell_type": "code",
      "source": [
        "layer1 = nn.Linear(in_features=28*28, out_features=20)\n",
        "hidden1 = layer1(flat_image)\n",
        "print(hidden1.size())"
      ],
      "metadata": {
        "colab": {
          "base_uri": "https://localhost:8080/"
        },
        "id": "24VE6f6dN0gK",
        "outputId": "6de83987-f726-4baf-90a6-205af0226c32"
      },
      "execution_count": 11,
      "outputs": [
        {
          "output_type": "stream",
          "name": "stdout",
          "text": [
            "torch.Size([3, 20])\n"
          ]
        }
      ]
    },
    {
      "cell_type": "code",
      "source": [
        "print(f\"Before ReLU: {hidden1}\\n\\n\")\n",
        "hidden1 = nn.ReLU()(hidden1)\n",
        "print(f\"After ReLU: {hidden1}\")"
      ],
      "metadata": {
        "colab": {
          "base_uri": "https://localhost:8080/"
        },
        "id": "Fgx4nzQwOPnD",
        "outputId": "e7a257ad-5af4-4abe-aee0-e16cc60b0823"
      },
      "execution_count": 12,
      "outputs": [
        {
          "output_type": "stream",
          "name": "stdout",
          "text": [
            "Before ReLU: tensor([[-0.2716,  0.0499,  0.3139,  0.4919, -0.0476,  0.2370,  0.1283, -0.5312,\n",
            "          0.1271,  0.3398, -0.3658,  0.0282,  0.4373,  0.3379,  0.6873, -0.4310,\n",
            "          0.0361, -0.6010,  0.1019,  0.2021],\n",
            "        [-0.1865,  0.0333,  0.3463, -0.2758, -0.0879,  0.1923, -0.0486, -0.3140,\n",
            "          0.1517,  0.4299, -0.3775,  0.1017,  0.2466,  0.2851,  0.6608, -0.2293,\n",
            "          0.1972, -0.5931,  0.2928,  0.0093],\n",
            "        [-0.0086, -0.0937,  0.1554,  0.2851,  0.0841,  0.3313,  0.1429, -0.3023,\n",
            "         -0.1976,  0.6180, -0.3774,  0.1352,  0.1288,  0.4926,  0.6011, -0.1258,\n",
            "         -0.1279, -0.7310,  0.0912,  0.3801]], grad_fn=<AddmmBackward0>)\n",
            "\n",
            "\n",
            "After ReLU: tensor([[0.0000, 0.0499, 0.3139, 0.4919, 0.0000, 0.2370, 0.1283, 0.0000, 0.1271,\n",
            "         0.3398, 0.0000, 0.0282, 0.4373, 0.3379, 0.6873, 0.0000, 0.0361, 0.0000,\n",
            "         0.1019, 0.2021],\n",
            "        [0.0000, 0.0333, 0.3463, 0.0000, 0.0000, 0.1923, 0.0000, 0.0000, 0.1517,\n",
            "         0.4299, 0.0000, 0.1017, 0.2466, 0.2851, 0.6608, 0.0000, 0.1972, 0.0000,\n",
            "         0.2928, 0.0093],\n",
            "        [0.0000, 0.0000, 0.1554, 0.2851, 0.0841, 0.3313, 0.1429, 0.0000, 0.0000,\n",
            "         0.6180, 0.0000, 0.1352, 0.1288, 0.4926, 0.6011, 0.0000, 0.0000, 0.0000,\n",
            "         0.0912, 0.3801]], grad_fn=<ReluBackward0>)\n"
          ]
        }
      ]
    },
    {
      "cell_type": "code",
      "source": [
        "seq_modules = nn.Sequential(\n",
        "    flatten,\n",
        "    layer1,\n",
        "    nn.ReLU(),\n",
        "    nn.Linear(20, 10)\n",
        ")\n",
        "input_image = torch.rand(3,28,28)\n",
        "logits = seq_modules(input_image)\n",
        "logits"
      ],
      "metadata": {
        "colab": {
          "base_uri": "https://localhost:8080/"
        },
        "id": "-TYGKkyWOcHy",
        "outputId": "bafe7f98-3ba0-470f-d6b6-206449189e29"
      },
      "execution_count": 13,
      "outputs": [
        {
          "output_type": "execute_result",
          "data": {
            "text/plain": [
              "tensor([[ 0.1966, -0.0915,  0.1515, -0.0347,  0.3804, -0.3393, -0.0921, -0.2999,\n",
              "          0.0544,  0.2200],\n",
              "        [ 0.2531, -0.1665,  0.2256, -0.0494,  0.2420, -0.2932, -0.0498, -0.3038,\n",
              "          0.1621,  0.0427],\n",
              "        [ 0.1743, -0.2053,  0.1046,  0.0352,  0.3382, -0.3893, -0.1477, -0.4862,\n",
              "          0.2631,  0.1402]], grad_fn=<AddmmBackward0>)"
            ]
          },
          "metadata": {},
          "execution_count": 13
        }
      ]
    },
    {
      "cell_type": "code",
      "source": [
        "softmax = nn.Softmax(dim=1)\n",
        "pred_probab = softmax(logits)\n",
        "pred_probab"
      ],
      "metadata": {
        "colab": {
          "base_uri": "https://localhost:8080/"
        },
        "id": "9qWq1J54PYvU",
        "outputId": "4565dfb3-dafe-4445-c578-21bcc9addc7f"
      },
      "execution_count": 15,
      "outputs": [
        {
          "output_type": "execute_result",
          "data": {
            "text/plain": [
              "tensor([[0.1172, 0.0878, 0.1120, 0.0930, 0.1408, 0.0686, 0.0878, 0.0713, 0.1016,\n",
              "         0.1199],\n",
              "        [0.1254, 0.0825, 0.1220, 0.0927, 0.1240, 0.0726, 0.0927, 0.0719, 0.1145,\n",
              "         0.1016],\n",
              "        [0.1172, 0.0802, 0.1093, 0.1020, 0.1380, 0.0667, 0.0849, 0.0605, 0.1281,\n",
              "         0.1132]], grad_fn=<SoftmaxBackward0>)"
            ]
          },
          "metadata": {},
          "execution_count": 15
        }
      ]
    },
    {
      "cell_type": "code",
      "source": [
        "print(f\"Model structure: {model}\\n\\n\")\n",
        "\n",
        "for name, param in model.named_parameters():\n",
        "    print(f\"Layer: {name} | Size: {param.size()} | Values : {param[:2]} \\n\")"
      ],
      "metadata": {
        "colab": {
          "base_uri": "https://localhost:8080/"
        },
        "id": "LvCN9avDPfly",
        "outputId": "b28d0a19-a8c0-4f5f-8dce-6904402b6063"
      },
      "execution_count": 16,
      "outputs": [
        {
          "output_type": "stream",
          "name": "stdout",
          "text": [
            "Model structure: NeuralNetwork(\n",
            "  (flatten): Flatten(start_dim=1, end_dim=-1)\n",
            "  (linear_relu_stack): Sequential(\n",
            "    (0): Linear(in_features=784, out_features=512, bias=True)\n",
            "    (1): ReLU()\n",
            "    (2): Linear(in_features=512, out_features=512, bias=True)\n",
            "    (3): ReLU()\n",
            "    (4): Linear(in_features=512, out_features=10, bias=True)\n",
            "  )\n",
            ")\n",
            "\n",
            "\n",
            "Layer: linear_relu_stack.0.weight | Size: torch.Size([512, 784]) | Values : tensor([[ 0.0268, -0.0150,  0.0122,  ...,  0.0292,  0.0027,  0.0259],\n",
            "        [-0.0218, -0.0052, -0.0165,  ...,  0.0130,  0.0082,  0.0275]],\n",
            "       device='cuda:0', grad_fn=<SliceBackward0>) \n",
            "\n",
            "Layer: linear_relu_stack.0.bias | Size: torch.Size([512]) | Values : tensor([ 0.0205, -0.0162], device='cuda:0', grad_fn=<SliceBackward0>) \n",
            "\n",
            "Layer: linear_relu_stack.2.weight | Size: torch.Size([512, 512]) | Values : tensor([[ 0.0229, -0.0082,  0.0425,  ..., -0.0077, -0.0171, -0.0241],\n",
            "        [ 0.0274, -0.0409, -0.0437,  ...,  0.0353,  0.0080, -0.0124]],\n",
            "       device='cuda:0', grad_fn=<SliceBackward0>) \n",
            "\n",
            "Layer: linear_relu_stack.2.bias | Size: torch.Size([512]) | Values : tensor([0.0144, 0.0355], device='cuda:0', grad_fn=<SliceBackward0>) \n",
            "\n",
            "Layer: linear_relu_stack.4.weight | Size: torch.Size([10, 512]) | Values : tensor([[ 0.0374, -0.0340, -0.0351,  ..., -0.0382,  0.0209, -0.0121],\n",
            "        [ 0.0259,  0.0160,  0.0069,  ..., -0.0326,  0.0125,  0.0379]],\n",
            "       device='cuda:0', grad_fn=<SliceBackward0>) \n",
            "\n",
            "Layer: linear_relu_stack.4.bias | Size: torch.Size([10]) | Values : tensor([0.0407, 0.0175], device='cuda:0', grad_fn=<SliceBackward0>) \n",
            "\n"
          ]
        }
      ]
    },
    {
      "cell_type": "code",
      "source": [
        "import torch\n",
        "from torch import nn\n",
        "from torch.utils.data import DataLoader\n",
        "from torchvision import datasets\n",
        "from torchvision.transforms import ToTensor\n",
        "\n",
        "training_data = datasets.FashionMNIST(\n",
        "    root=\"data\",\n",
        "    train=True,\n",
        "    download=True,\n",
        "    transform=ToTensor()\n",
        ")\n",
        "\n",
        "test_data = datasets.FashionMNIST(\n",
        "    root=\"data\",\n",
        "    train=False,\n",
        "    download=True,\n",
        "    transform=ToTensor()\n",
        ")\n",
        "\n",
        "train_dataloader = DataLoader(training_data, batch_size=64)\n",
        "test_dataloader = DataLoader(test_data, batch_size=64)\n",
        "\n",
        "class NeuralNetwork(nn.Module):\n",
        "    def __init__(self):\n",
        "        super().__init__()\n",
        "        self.flatten = nn.Flatten()\n",
        "        self.linear_relu_stack = nn.Sequential(\n",
        "            nn.Linear(28*28, 512),\n",
        "            nn.ReLU(),\n",
        "            nn.Linear(512, 512),\n",
        "            nn.ReLU(),\n",
        "            nn.Linear(512, 10),\n",
        "        )\n",
        "\n",
        "    def forward(self, x):\n",
        "        x = self.flatten(x)\n",
        "        logits = self.linear_relu_stack(x)\n",
        "        return logits\n",
        "\n",
        "model = NeuralNetwork()"
      ],
      "metadata": {
        "colab": {
          "base_uri": "https://localhost:8080/"
        },
        "id": "VCc1vQPLP9cI",
        "outputId": "b3bf83db-827c-4deb-bd61-8a1c959fab66"
      },
      "execution_count": 17,
      "outputs": [
        {
          "output_type": "stream",
          "name": "stdout",
          "text": [
            "Downloading http://fashion-mnist.s3-website.eu-central-1.amazonaws.com/train-images-idx3-ubyte.gz\n",
            "Downloading http://fashion-mnist.s3-website.eu-central-1.amazonaws.com/train-images-idx3-ubyte.gz to data/FashionMNIST/raw/train-images-idx3-ubyte.gz\n"
          ]
        },
        {
          "output_type": "stream",
          "name": "stderr",
          "text": [
            "100%|██████████| 26421880/26421880 [00:02<00:00, 12500715.94it/s]\n"
          ]
        },
        {
          "output_type": "stream",
          "name": "stdout",
          "text": [
            "Extracting data/FashionMNIST/raw/train-images-idx3-ubyte.gz to data/FashionMNIST/raw\n",
            "\n",
            "Downloading http://fashion-mnist.s3-website.eu-central-1.amazonaws.com/train-labels-idx1-ubyte.gz\n",
            "Downloading http://fashion-mnist.s3-website.eu-central-1.amazonaws.com/train-labels-idx1-ubyte.gz to data/FashionMNIST/raw/train-labels-idx1-ubyte.gz\n"
          ]
        },
        {
          "output_type": "stream",
          "name": "stderr",
          "text": [
            "100%|██████████| 29515/29515 [00:00<00:00, 198097.17it/s]\n"
          ]
        },
        {
          "output_type": "stream",
          "name": "stdout",
          "text": [
            "Extracting data/FashionMNIST/raw/train-labels-idx1-ubyte.gz to data/FashionMNIST/raw\n",
            "\n",
            "Downloading http://fashion-mnist.s3-website.eu-central-1.amazonaws.com/t10k-images-idx3-ubyte.gz\n",
            "Downloading http://fashion-mnist.s3-website.eu-central-1.amazonaws.com/t10k-images-idx3-ubyte.gz to data/FashionMNIST/raw/t10k-images-idx3-ubyte.gz\n"
          ]
        },
        {
          "output_type": "stream",
          "name": "stderr",
          "text": [
            "100%|██████████| 4422102/4422102 [00:01<00:00, 3703266.54it/s]\n"
          ]
        },
        {
          "output_type": "stream",
          "name": "stdout",
          "text": [
            "Extracting data/FashionMNIST/raw/t10k-images-idx3-ubyte.gz to data/FashionMNIST/raw\n",
            "\n",
            "Downloading http://fashion-mnist.s3-website.eu-central-1.amazonaws.com/t10k-labels-idx1-ubyte.gz\n",
            "Downloading http://fashion-mnist.s3-website.eu-central-1.amazonaws.com/t10k-labels-idx1-ubyte.gz to data/FashionMNIST/raw/t10k-labels-idx1-ubyte.gz\n"
          ]
        },
        {
          "output_type": "stream",
          "name": "stderr",
          "text": [
            "100%|██████████| 5148/5148 [00:00<00:00, 6441610.08it/s]"
          ]
        },
        {
          "output_type": "stream",
          "name": "stdout",
          "text": [
            "Extracting data/FashionMNIST/raw/t10k-labels-idx1-ubyte.gz to data/FashionMNIST/raw\n",
            "\n"
          ]
        },
        {
          "output_type": "stream",
          "name": "stderr",
          "text": [
            "\n"
          ]
        }
      ]
    },
    {
      "cell_type": "code",
      "source": [
        "learning_rate = 1e-3\n",
        "batch_size = 64\n",
        "epochs = 5"
      ],
      "metadata": {
        "id": "hdKg9I2CQ3YG"
      },
      "execution_count": 18,
      "outputs": []
    },
    {
      "cell_type": "code",
      "source": [
        "# Initialize the loss function\n",
        "loss_fn = nn.CrossEntropyLoss()"
      ],
      "metadata": {
        "id": "gQZDJmCtQ9By"
      },
      "execution_count": 19,
      "outputs": []
    },
    {
      "cell_type": "code",
      "source": [
        "optimizer = torch.optim.SGD(model.parameters(), lr=learning_rate)"
      ],
      "metadata": {
        "id": "SesTCHMNRJV4"
      },
      "execution_count": 20,
      "outputs": []
    },
    {
      "cell_type": "code",
      "source": [
        "def train_loop(dataloader, model, loss_fn, optimizer):\n",
        "    size = len(dataloader.dataset)\n",
        "    # Set the model to training mode - important for batch normalization and dropout layers\n",
        "    # Unnecessary in this situation but added for best practices\n",
        "    model.train()\n",
        "    for batch, (X, y) in enumerate(dataloader):\n",
        "        # Compute prediction and loss\n",
        "        pred = model(X)\n",
        "        loss = loss_fn(pred, y)\n",
        "\n",
        "        # Backpropagation\n",
        "        loss.backward()\n",
        "        optimizer.step()\n",
        "        optimizer.zero_grad()\n",
        "\n",
        "        if batch % 100 == 0:\n",
        "            loss, current = loss.item(), (batch + 1) * len(X)\n",
        "            print(f\"loss: {loss:>7f}  [{current:>5d}/{size:>5d}]\")\n",
        "\n",
        "\n",
        "def test_loop(dataloader, model, loss_fn):\n",
        "    # Set the model to evaluation mode - important for batch normalization and dropout layers\n",
        "    # Unnecessary in this situation but added for best practices\n",
        "    model.eval()\n",
        "    size = len(dataloader.dataset)\n",
        "    num_batches = len(dataloader)\n",
        "    test_loss, correct = 0, 0\n",
        "\n",
        "    # Evaluating the model with torch.no_grad() ensures that no gradients are computed during test mode\n",
        "    # also serves to reduce unnecessary gradient computations and memory usage for tensors with requires_grad=True\n",
        "    with torch.no_grad():\n",
        "        for X, y in dataloader:\n",
        "            pred = model(X)\n",
        "            test_loss += loss_fn(pred, y).item()\n",
        "            correct += (pred.argmax(1) == y).type(torch.float).sum().item()\n",
        "\n",
        "    test_loss /= num_batches\n",
        "    correct /= size\n",
        "    print(f\"Test Error: \\n Accuracy: {(100*correct):>0.1f}%, Avg loss: {test_loss:>8f} \\n\")"
      ],
      "metadata": {
        "id": "SgPe1OLmRujB"
      },
      "execution_count": 21,
      "outputs": []
    },
    {
      "cell_type": "code",
      "source": [
        "loss_fn = nn.CrossEntropyLoss()\n",
        "optimizer = torch.optim.SGD(model.parameters(), lr=learning_rate)\n",
        "\n",
        "epochs = 10\n",
        "for t in range(epochs):\n",
        "    print(f\"Epoch {t+1}\\n-------------------------------\")\n",
        "    train_loop(train_dataloader, model, loss_fn, optimizer)\n",
        "    test_loop(test_dataloader, model, loss_fn)\n",
        "print(\"Done!\")"
      ],
      "metadata": {
        "colab": {
          "base_uri": "https://localhost:8080/"
        },
        "id": "0cEFqvvSUyYS",
        "outputId": "edd259a7-2685-4bec-d6a2-3724464ce938"
      },
      "execution_count": 22,
      "outputs": [
        {
          "output_type": "stream",
          "name": "stdout",
          "text": [
            "Epoch 1\n",
            "-------------------------------\n",
            "loss: 2.310755  [   64/60000]\n",
            "loss: 2.288719  [ 6464/60000]\n",
            "loss: 2.270358  [12864/60000]\n",
            "loss: 2.259776  [19264/60000]\n",
            "loss: 2.252857  [25664/60000]\n",
            "loss: 2.211295  [32064/60000]\n",
            "loss: 2.233783  [38464/60000]\n",
            "loss: 2.193113  [44864/60000]\n",
            "loss: 2.191472  [51264/60000]\n",
            "loss: 2.149935  [57664/60000]\n",
            "Test Error: \n",
            " Accuracy: 36.6%, Avg loss: 2.147161 \n",
            "\n",
            "Epoch 2\n",
            "-------------------------------\n",
            "loss: 2.170069  [   64/60000]\n",
            "loss: 2.151537  [ 6464/60000]\n",
            "loss: 2.093046  [12864/60000]\n",
            "loss: 2.111058  [19264/60000]\n",
            "loss: 2.058175  [25664/60000]\n",
            "loss: 1.986855  [32064/60000]\n",
            "loss: 2.032108  [38464/60000]\n",
            "loss: 1.943921  [44864/60000]\n",
            "loss: 1.954298  [51264/60000]\n",
            "loss: 1.868786  [57664/60000]\n",
            "Test Error: \n",
            " Accuracy: 57.3%, Avg loss: 1.873989 \n",
            "\n",
            "Epoch 3\n",
            "-------------------------------\n",
            "loss: 1.913981  [   64/60000]\n",
            "loss: 1.878175  [ 6464/60000]\n",
            "loss: 1.762873  [12864/60000]\n",
            "loss: 1.814001  [19264/60000]\n",
            "loss: 1.688303  [25664/60000]\n",
            "loss: 1.634835  [32064/60000]\n",
            "loss: 1.673676  [38464/60000]\n",
            "loss: 1.563865  [44864/60000]\n",
            "loss: 1.592351  [51264/60000]\n",
            "loss: 1.480040  [57664/60000]\n",
            "Test Error: \n",
            " Accuracy: 62.9%, Avg loss: 1.504456 \n",
            "\n",
            "Epoch 4\n",
            "-------------------------------\n",
            "loss: 1.574814  [   64/60000]\n",
            "loss: 1.535440  [ 6464/60000]\n",
            "loss: 1.388286  [12864/60000]\n",
            "loss: 1.473568  [19264/60000]\n",
            "loss: 1.336865  [25664/60000]\n",
            "loss: 1.332297  [32064/60000]\n",
            "loss: 1.359402  [38464/60000]\n",
            "loss: 1.272377  [44864/60000]\n",
            "loss: 1.309287  [51264/60000]\n",
            "loss: 1.207345  [57664/60000]\n",
            "Test Error: \n",
            " Accuracy: 64.1%, Avg loss: 1.237686 \n",
            "\n",
            "Epoch 5\n",
            "-------------------------------\n",
            "loss: 1.316841  [   64/60000]\n",
            "loss: 1.296254  [ 6464/60000]\n",
            "loss: 1.132270  [12864/60000]\n",
            "loss: 1.252131  [19264/60000]\n",
            "loss: 1.112508  [25664/60000]\n",
            "loss: 1.136648  [32064/60000]\n",
            "loss: 1.167458  [38464/60000]\n",
            "loss: 1.092869  [44864/60000]\n",
            "loss: 1.133556  [51264/60000]\n",
            "loss: 1.048050  [57664/60000]\n",
            "Test Error: \n",
            " Accuracy: 65.2%, Avg loss: 1.073977 \n",
            "\n",
            "Epoch 6\n",
            "-------------------------------\n",
            "loss: 1.145843  [   64/60000]\n",
            "loss: 1.147004  [ 6464/60000]\n",
            "loss: 0.966747  [12864/60000]\n",
            "loss: 1.115388  [19264/60000]\n",
            "loss: 0.978333  [25664/60000]\n",
            "loss: 1.006970  [32064/60000]\n",
            "loss: 1.051064  [38464/60000]\n",
            "loss: 0.980799  [44864/60000]\n",
            "loss: 1.019387  [51264/60000]\n",
            "loss: 0.949237  [57664/60000]\n",
            "Test Error: \n",
            " Accuracy: 66.4%, Avg loss: 0.969751 \n",
            "\n",
            "Epoch 7\n",
            "-------------------------------\n",
            "loss: 1.027830  [   64/60000]\n",
            "loss: 1.051140  [ 6464/60000]\n",
            "loss: 0.854637  [12864/60000]\n",
            "loss: 1.024713  [19264/60000]\n",
            "loss: 0.894902  [25664/60000]\n",
            "loss: 0.916388  [32064/60000]\n",
            "loss: 0.975829  [38464/60000]\n",
            "loss: 0.908919  [44864/60000]\n",
            "loss: 0.940517  [51264/60000]\n",
            "loss: 0.883551  [57664/60000]\n",
            "Test Error: \n",
            " Accuracy: 67.8%, Avg loss: 0.899050 \n",
            "\n",
            "Epoch 8\n",
            "-------------------------------\n",
            "loss: 0.941834  [   64/60000]\n",
            "loss: 0.984797  [ 6464/60000]\n",
            "loss: 0.774682  [12864/60000]\n",
            "loss: 0.960516  [19264/60000]\n",
            "loss: 0.838798  [25664/60000]\n",
            "loss: 0.850167  [32064/60000]\n",
            "loss: 0.923014  [38464/60000]\n",
            "loss: 0.861021  [44864/60000]\n",
            "loss: 0.883462  [51264/60000]\n",
            "loss: 0.836316  [57664/60000]\n",
            "Test Error: \n",
            " Accuracy: 68.9%, Avg loss: 0.848041 \n",
            "\n",
            "Epoch 9\n",
            "-------------------------------\n",
            "loss: 0.875758  [   64/60000]\n",
            "loss: 0.935175  [ 6464/60000]\n",
            "loss: 0.714812  [12864/60000]\n",
            "loss: 0.912679  [19264/60000]\n",
            "loss: 0.798238  [25664/60000]\n",
            "loss: 0.800187  [32064/60000]\n",
            "loss: 0.882828  [38464/60000]\n",
            "loss: 0.827690  [44864/60000]\n",
            "loss: 0.840399  [51264/60000]\n",
            "loss: 0.800109  [57664/60000]\n",
            "Test Error: \n",
            " Accuracy: 70.2%, Avg loss: 0.809164 \n",
            "\n",
            "Epoch 10\n",
            "-------------------------------\n",
            "loss: 0.822690  [   64/60000]\n",
            "loss: 0.895444  [ 6464/60000]\n",
            "loss: 0.668240  [12864/60000]\n",
            "loss: 0.875577  [19264/60000]\n",
            "loss: 0.766654  [25664/60000]\n",
            "loss: 0.761456  [32064/60000]\n",
            "loss: 0.850164  [38464/60000]\n",
            "loss: 0.803043  [44864/60000]\n",
            "loss: 0.806648  [51264/60000]\n",
            "loss: 0.771227  [57664/60000]\n",
            "Test Error: \n",
            " Accuracy: 71.5%, Avg loss: 0.778126 \n",
            "\n",
            "Done!\n"
          ]
        }
      ]
    },
    {
      "cell_type": "code",
      "source": [
        "torch.save(model, 'model.pth')"
      ],
      "metadata": {
        "id": "amlsR6e9U8sQ"
      },
      "execution_count": 23,
      "outputs": []
    },
    {
      "cell_type": "code",
      "source": [
        "model2 = torch.load('model.pth')"
      ],
      "metadata": {
        "id": "hn_yuoE0WNkS"
      },
      "execution_count": 24,
      "outputs": []
    },
    {
      "cell_type": "code",
      "source": [
        "model2"
      ],
      "metadata": {
        "colab": {
          "base_uri": "https://localhost:8080/"
        },
        "id": "hDTCmmcrWRUI",
        "outputId": "dcabc6e9-edb3-4559-d3d2-734c95e44992"
      },
      "execution_count": 25,
      "outputs": [
        {
          "output_type": "execute_result",
          "data": {
            "text/plain": [
              "NeuralNetwork(\n",
              "  (flatten): Flatten(start_dim=1, end_dim=-1)\n",
              "  (linear_relu_stack): Sequential(\n",
              "    (0): Linear(in_features=784, out_features=512, bias=True)\n",
              "    (1): ReLU()\n",
              "    (2): Linear(in_features=512, out_features=512, bias=True)\n",
              "    (3): ReLU()\n",
              "    (4): Linear(in_features=512, out_features=10, bias=True)\n",
              "  )\n",
              ")"
            ]
          },
          "metadata": {},
          "execution_count": 25
        }
      ]
    },
    {
      "cell_type": "code",
      "source": [],
      "metadata": {
        "id": "TsARENuUWTol"
      },
      "execution_count": null,
      "outputs": []
    }
  ]
}